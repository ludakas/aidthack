{
 "cells": [
  {
   "cell_type": "markdown",
   "metadata": {},
   "source": [
    "# Preprocessing"
   ]
  },
  {
   "cell_type": "code",
   "execution_count": 1,
   "metadata": {
    "collapsed": true
   },
   "outputs": [],
   "source": [
    "def cleaned_text(text):\n",
    "    text = text.lower()\n",
    "    text = re.sub('[^a-z]+', ' ', text)\n",
    "    \n",
    "    # Maximum of 100 words per sentence\n",
    "    words = text.split()\n",
    "    text = ' '.join(words[:100])\n",
    "    return text"
   ]
  },
  {
   "cell_type": "code",
   "execution_count": 2,
   "metadata": {
    "collapsed": true
   },
   "outputs": [],
   "source": [
    "import pandas as pd\n",
    "import re"
   ]
  },
  {
   "cell_type": "code",
   "execution_count": 3,
   "metadata": {
    "collapsed": false
   },
   "outputs": [],
   "source": [
    "df = pd.read_csv('forum_1000.csv')"
   ]
  },
  {
   "cell_type": "code",
   "execution_count": 4,
   "metadata": {
    "collapsed": false
   },
   "outputs": [
    {
     "data": {
      "text/html": [
       "<div>\n",
       "<table border=\"1\" class=\"dataframe\">\n",
       "  <thead>\n",
       "    <tr style=\"text-align: right;\">\n",
       "      <th></th>\n",
       "      <th>messageId</th>\n",
       "      <th>solution</th>\n",
       "      <th>subject</th>\n",
       "      <th>forumsThread_threadId</th>\n",
       "      <th>plain_text</th>\n",
       "    </tr>\n",
       "  </thead>\n",
       "  <tbody>\n",
       "    <tr>\n",
       "      <th>0</th>\n",
       "      <td>1142</td>\n",
       "      <td>0</td>\n",
       "      <td>Umstellung auf IP Anschluss</td>\n",
       "      <td>1142</td>\n",
       "      <td>Hallo zusammen,   Ich bin am Überlegen von mei...</td>\n",
       "    </tr>\n",
       "    <tr>\n",
       "      <th>1</th>\n",
       "      <td>1156</td>\n",
       "      <td>1</td>\n",
       "      <td>AW: Umstellung auf IP Anschluss</td>\n",
       "      <td>1142</td>\n",
       "      <td>Hallo, ich habe am 16.12.13 den Anschlus meine...</td>\n",
       "    </tr>\n",
       "    <tr>\n",
       "      <th>2</th>\n",
       "      <td>1160</td>\n",
       "      <td>1</td>\n",
       "      <td>AW: Umstellung auf IP Anschluss</td>\n",
       "      <td>1142</td>\n",
       "      <td>Router muss umgestellt werden, Telefone ggf. a...</td>\n",
       "    </tr>\n",
       "    <tr>\n",
       "      <th>3</th>\n",
       "      <td>1162</td>\n",
       "      <td>1</td>\n",
       "      <td>AW: Umstellung auf IP Anschluss</td>\n",
       "      <td>1142</td>\n",
       "      <td>Hallo Fabian!   Die Umstellung läuft in der Re...</td>\n",
       "    </tr>\n",
       "    <tr>\n",
       "      <th>4</th>\n",
       "      <td>1202</td>\n",
       "      <td>0</td>\n",
       "      <td>AW: Umstellung auf IP Anschluss</td>\n",
       "      <td>1142</td>\n",
       "      <td>Hallo, Vielen Dank für das informative und sch...</td>\n",
       "    </tr>\n",
       "  </tbody>\n",
       "</table>\n",
       "</div>"
      ],
      "text/plain": [
       "   messageId  solution                          subject  \\\n",
       "0       1142         0      Umstellung auf IP Anschluss   \n",
       "1       1156         1  AW: Umstellung auf IP Anschluss   \n",
       "2       1160         1  AW: Umstellung auf IP Anschluss   \n",
       "3       1162         1  AW: Umstellung auf IP Anschluss   \n",
       "4       1202         0  AW: Umstellung auf IP Anschluss   \n",
       "\n",
       "   forumsThread_threadId                                         plain_text  \n",
       "0                   1142  Hallo zusammen,   Ich bin am Überlegen von mei...  \n",
       "1                   1142  Hallo, ich habe am 16.12.13 den Anschlus meine...  \n",
       "2                   1142  Router muss umgestellt werden, Telefone ggf. a...  \n",
       "3                   1142  Hallo Fabian!   Die Umstellung läuft in der Re...  \n",
       "4                   1142  Hallo, Vielen Dank für das informative und sch...  "
      ]
     },
     "execution_count": 4,
     "metadata": {},
     "output_type": "execute_result"
    }
   ],
   "source": [
    "df.head()"
   ]
  },
  {
   "cell_type": "code",
   "execution_count": 5,
   "metadata": {
    "collapsed": true
   },
   "outputs": [],
   "source": [
    "words = []\n",
    "plain = df['plain_text']\n",
    "for i in range(len(plain)):\n",
    "    words.append(cleaned_text(str(plain[i])))"
   ]
  },
  {
   "cell_type": "code",
   "execution_count": 6,
   "metadata": {
    "collapsed": true
   },
   "outputs": [],
   "source": [
    "df2 = pd.DataFrame(words)"
   ]
  },
  {
   "cell_type": "code",
   "execution_count": 7,
   "metadata": {
    "collapsed": false
   },
   "outputs": [
    {
     "data": {
      "text/html": [
       "<div>\n",
       "<table border=\"1\" class=\"dataframe\">\n",
       "  <thead>\n",
       "    <tr style=\"text-align: right;\">\n",
       "      <th></th>\n",
       "      <th>0</th>\n",
       "    </tr>\n",
       "  </thead>\n",
       "  <tbody>\n",
       "    <tr>\n",
       "      <th>0</th>\n",
       "      <td>hallo zusammen ich bin am berlegen von meinem ...</td>\n",
       "    </tr>\n",
       "    <tr>\n",
       "      <th>1</th>\n",
       "      <td>hallo ich habe am den anschlus meines vater is...</td>\n",
       "    </tr>\n",
       "    <tr>\n",
       "      <th>2</th>\n",
       "      <td>router muss umgestellt werden telefone ggf and...</td>\n",
       "    </tr>\n",
       "    <tr>\n",
       "      <th>3</th>\n",
       "      <td>hallo fabian die umstellung l uft in der regel...</td>\n",
       "    </tr>\n",
       "    <tr>\n",
       "      <th>4</th>\n",
       "      <td>hallo vielen dank f r das informative und schn...</td>\n",
       "    </tr>\n",
       "  </tbody>\n",
       "</table>\n",
       "</div>"
      ],
      "text/plain": [
       "                                                   0\n",
       "0  hallo zusammen ich bin am berlegen von meinem ...\n",
       "1  hallo ich habe am den anschlus meines vater is...\n",
       "2  router muss umgestellt werden telefone ggf and...\n",
       "3  hallo fabian die umstellung l uft in der regel...\n",
       "4  hallo vielen dank f r das informative und schn..."
      ]
     },
     "execution_count": 7,
     "metadata": {},
     "output_type": "execute_result"
    }
   ],
   "source": [
    "df2.head()"
   ]
  },
  {
   "cell_type": "code",
   "execution_count": 8,
   "metadata": {
    "collapsed": true
   },
   "outputs": [],
   "source": [
    "df2.to_csv('forum_1000.txt', header=False, index=False)"
   ]
  },
  {
   "cell_type": "code",
   "execution_count": 9,
   "metadata": {
    "collapsed": true
   },
   "outputs": [],
   "source": [
    "maxl = 0\n",
    "curl = []\n",
    "for i in range(len(words)):\n",
    "    cur = len(words[i].split())\n",
    "    curl.append(cur)\n",
    "    if cur > maxl:\n",
    "        maxl = cur"
   ]
  },
  {
   "cell_type": "code",
   "execution_count": 10,
   "metadata": {
    "collapsed": false
   },
   "outputs": [
    {
     "data": {
      "text/plain": [
       "100"
      ]
     },
     "execution_count": 10,
     "metadata": {},
     "output_type": "execute_result"
    }
   ],
   "source": [
    "maxl"
   ]
  },
  {
   "cell_type": "code",
   "execution_count": 11,
   "metadata": {
    "collapsed": false
   },
   "outputs": [
    {
     "data": {
      "text/plain": [
       "57.875999999999998"
      ]
     },
     "execution_count": 11,
     "metadata": {},
     "output_type": "execute_result"
    }
   ],
   "source": [
    "import numpy as np\n",
    "np.mean(curl)"
   ]
  },
  {
   "cell_type": "code",
   "execution_count": null,
   "metadata": {
    "collapsed": true
   },
   "outputs": [],
   "source": []
  }
 ],
 "metadata": {
  "kernelspec": {
   "display_name": "Python 3",
   "language": "python",
   "name": "python3"
  },
  "language_info": {
   "codemirror_mode": {
    "name": "ipython",
    "version": 3
   },
   "file_extension": ".py",
   "mimetype": "text/x-python",
   "name": "python",
   "nbconvert_exporter": "python",
   "pygments_lexer": "ipython3",
   "version": "3.6.0"
  }
 },
 "nbformat": 4,
 "nbformat_minor": 2
}
