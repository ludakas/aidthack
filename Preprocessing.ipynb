{
 "cells": [
  {
   "cell_type": "markdown",
   "metadata": {},
   "source": [
    "# Preprocessing"
   ]
  },
  {
   "cell_type": "code",
   "execution_count": 209,
   "metadata": {
    "collapsed": true
   },
   "outputs": [],
   "source": [
    "def cleaned_text(text):\n",
    "    text = text.lower()\n",
    "    text = re.sub('[^a-zäöüß]+', ' ', text)\n",
    "    \n",
    "    text = re.sub('ä', 'a', text)\n",
    "    text = re.sub('ö', 'o', text)\n",
    "    text = re.sub('ü', 'u', text)\n",
    "    text = re.sub('ß', 'ss', text)\n",
    "    \n",
    "    # Maximum of 100 words per sentence\n",
    "    words = text.split()\n",
    "    text = ' '.join(words[:100])\n",
    "    return text"
   ]
  },
  {
   "cell_type": "code",
   "execution_count": 210,
   "metadata": {
    "collapsed": false
   },
   "outputs": [],
   "source": [
    "def cleaned_text_label(text):\n",
    "    text = text.lower()\n",
    "    text = re.sub('[^a-z0-9]+', ' ', text)\n",
    "    \n",
    "    # Maximum of 100 words per sentence\n",
    "    words = text.split()\n",
    "    text = ' __label__'.join(words[:100])\n",
    "    return '__label__' + text"
   ]
  },
  {
   "cell_type": "code",
   "execution_count": 211,
   "metadata": {
    "collapsed": true
   },
   "outputs": [],
   "source": [
    "import pandas as pd\n",
    "import re"
   ]
  },
  {
   "cell_type": "code",
   "execution_count": 212,
   "metadata": {
    "collapsed": false
   },
   "outputs": [
    {
     "name": "stderr",
     "output_type": "stream",
     "text": [
      "b'Skipping line 1945115: expected 5 fields, saw 6\\nSkipping line 1945116: expected 5 fields, saw 6\\nSkipping line 1945117: expected 5 fields, saw 6\\nSkipping line 1945118: expected 5 fields, saw 6\\nSkipping line 1945119: expected 5 fields, saw 6\\nSkipping line 1945120: expected 5 fields, saw 6\\nSkipping line 1945121: expected 5 fields, saw 6\\nSkipping line 1945122: expected 5 fields, saw 6\\nSkipping line 1949258: expected 5 fields, saw 6\\nSkipping line 1949259: expected 5 fields, saw 6\\nSkipping line 1949260: expected 5 fields, saw 6\\nSkipping line 1949261: expected 5 fields, saw 6\\nSkipping line 1950576: expected 5 fields, saw 6\\nSkipping line 1950577: expected 5 fields, saw 6\\nSkipping line 1950578: expected 5 fields, saw 6\\nSkipping line 1952013: expected 5 fields, saw 6\\nSkipping line 1952014: expected 5 fields, saw 6\\nSkipping line 1952015: expected 5 fields, saw 6\\nSkipping line 1952016: expected 5 fields, saw 6\\nSkipping line 1955453: expected 5 fields, saw 6\\nSkipping line 1955454: expected 5 fields, saw 6\\nSkipping line 1955455: expected 5 fields, saw 6\\nSkipping line 1962817: expected 5 fields, saw 6\\nSkipping line 1962818: expected 5 fields, saw 6\\nSkipping line 1962819: expected 5 fields, saw 6\\nSkipping line 1962820: expected 5 fields, saw 6\\n'\n",
      "b'Skipping line 1974416: expected 5 fields, saw 6\\nSkipping line 1974417: expected 5 fields, saw 6\\nSkipping line 1974418: expected 5 fields, saw 6\\nSkipping line 1974419: expected 5 fields, saw 6\\nSkipping line 1974420: expected 5 fields, saw 6\\nSkipping line 1974421: expected 5 fields, saw 6\\nSkipping line 1983569: expected 5 fields, saw 9\\nSkipping line 1998823: expected 5 fields, saw 6\\nSkipping line 2004008: expected 5 fields, saw 6\\nSkipping line 2004009: expected 5 fields, saw 6\\nSkipping line 2004010: expected 5 fields, saw 6\\nSkipping line 2004011: expected 5 fields, saw 6\\nSkipping line 2004012: expected 5 fields, saw 6\\nSkipping line 2004013: expected 5 fields, saw 6\\nSkipping line 2004014: expected 5 fields, saw 6\\nSkipping line 2004015: expected 5 fields, saw 6\\nSkipping line 2004016: expected 5 fields, saw 6\\nSkipping line 2004017: expected 5 fields, saw 6\\nSkipping line 2008132: expected 5 fields, saw 6\\nSkipping line 2008133: expected 5 fields, saw 6\\nSkipping line 2008134: expected 5 fields, saw 6\\nSkipping line 2015197: expected 5 fields, saw 6\\nSkipping line 2015198: expected 5 fields, saw 6\\nSkipping line 2015199: expected 5 fields, saw 6\\nSkipping line 2015200: expected 5 fields, saw 6\\nSkipping line 2020808: expected 5 fields, saw 6\\nSkipping line 2020809: expected 5 fields, saw 6\\nSkipping line 2020810: expected 5 fields, saw 6\\nSkipping line 2023010: expected 5 fields, saw 6\\nSkipping line 2023011: expected 5 fields, saw 6\\nSkipping line 2023012: expected 5 fields, saw 6\\nSkipping line 2023013: expected 5 fields, saw 6\\nSkipping line 2024157: expected 5 fields, saw 6\\nSkipping line 2024158: expected 5 fields, saw 6\\nSkipping line 2024159: expected 5 fields, saw 6\\nSkipping line 2024160: expected 5 fields, saw 6\\nSkipping line 2024161: expected 5 fields, saw 6\\nSkipping line 2024162: expected 5 fields, saw 6\\nSkipping line 2026831: expected 5 fields, saw 8\\nSkipping line 2026832: expected 5 fields, saw 6\\nSkipping line 2026833: expected 5 fields, saw 6\\nSkipping line 2026834: expected 5 fields, saw 6\\nSkipping line 2026835: expected 5 fields, saw 6\\nSkipping line 2026836: expected 5 fields, saw 6\\nSkipping line 2026837: expected 5 fields, saw 6\\nSkipping line 2026838: expected 5 fields, saw 6\\nSkipping line 2026839: expected 5 fields, saw 6\\nSkipping line 2026840: expected 5 fields, saw 6\\nSkipping line 2026841: expected 5 fields, saw 6\\nSkipping line 2026842: expected 5 fields, saw 6\\nSkipping line 2026843: expected 5 fields, saw 6\\nSkipping line 2026844: expected 5 fields, saw 6\\nSkipping line 2039112: expected 5 fields, saw 8\\nSkipping line 2039113: expected 5 fields, saw 8\\nSkipping line 2039114: expected 5 fields, saw 8\\nSkipping line 2039115: expected 5 fields, saw 8\\nSkipping line 2039116: expected 5 fields, saw 8\\nSkipping line 2039117: expected 5 fields, saw 8\\nSkipping line 2039118: expected 5 fields, saw 8\\nSkipping line 2039119: expected 5 fields, saw 8\\nSkipping line 2039120: expected 5 fields, saw 8\\nSkipping line 2039121: expected 5 fields, saw 8\\nSkipping line 2039122: expected 5 fields, saw 8\\nSkipping line 2039123: expected 5 fields, saw 8\\nSkipping line 2039124: expected 5 fields, saw 8\\nSkipping line 2039125: expected 5 fields, saw 8\\nSkipping line 2052780: expected 5 fields, saw 6\\nSkipping line 2052781: expected 5 fields, saw 6\\nSkipping line 2052782: expected 5 fields, saw 6\\nSkipping line 2052783: expected 5 fields, saw 6\\nSkipping line 2052784: expected 5 fields, saw 6\\nSkipping line 2052785: expected 5 fields, saw 6\\nSkipping line 2052786: expected 5 fields, saw 6\\nSkipping line 2059950: expected 5 fields, saw 6\\nSkipping line 2059951: expected 5 fields, saw 6\\nSkipping line 2059952: expected 5 fields, saw 6\\nSkipping line 2059953: expected 5 fields, saw 6\\nSkipping line 2059954: expected 5 fields, saw 6\\nSkipping line 2059955: expected 5 fields, saw 6\\nSkipping line 2059956: expected 5 fields, saw 6\\nSkipping line 2059957: expected 5 fields, saw 6\\nSkipping line 2059958: expected 5 fields, saw 6\\nSkipping line 2059959: expected 5 fields, saw 6\\nSkipping line 2059960: expected 5 fields, saw 6\\nSkipping line 2062546: expected 5 fields, saw 6\\nSkipping line 2062547: expected 5 fields, saw 6\\nSkipping line 2062548: expected 5 fields, saw 6\\nSkipping line 2062549: expected 5 fields, saw 6\\nSkipping line 2062550: expected 5 fields, saw 6\\nSkipping line 2062551: expected 5 fields, saw 6\\nSkipping line 2070849: expected 5 fields, saw 6\\nSkipping line 2070850: expected 5 fields, saw 6\\nSkipping line 2070851: expected 5 fields, saw 6\\nSkipping line 2070852: expected 5 fields, saw 6\\nSkipping line 2070853: expected 5 fields, saw 6\\nSkipping line 2070855: expected 5 fields, saw 6\\nSkipping line 2070856: expected 5 fields, saw 6\\nSkipping line 2070857: expected 5 fields, saw 6\\nSkipping line 2079874: expected 5 fields, saw 6\\nSkipping line 2079875: expected 5 fields, saw 6\\nSkipping line 2079876: expected 5 fields, saw 6\\nSkipping line 2079877: expected 5 fields, saw 6\\nSkipping line 2079878: expected 5 fields, saw 6\\nSkipping line 2079879: expected 5 fields, saw 6\\nSkipping line 2079880: expected 5 fields, saw 6\\nSkipping line 2087236: expected 5 fields, saw 6\\nSkipping line 2087237: expected 5 fields, saw 6\\nSkipping line 2087238: expected 5 fields, saw 6\\nSkipping line 2087239: expected 5 fields, saw 6\\nSkipping line 2092183: expected 5 fields, saw 6\\nSkipping line 2092184: expected 5 fields, saw 6\\nSkipping line 2092185: expected 5 fields, saw 6\\nSkipping line 2092186: expected 5 fields, saw 6\\n'\n",
      "b'Skipping line 2111859: expected 5 fields, saw 6\\nSkipping line 2111860: expected 5 fields, saw 6\\nSkipping line 2111861: expected 5 fields, saw 6\\nSkipping line 2111862: expected 5 fields, saw 6\\nSkipping line 2115904: expected 5 fields, saw 6\\nSkipping line 2115905: expected 5 fields, saw 6\\nSkipping line 2117333: expected 5 fields, saw 6\\nSkipping line 2117334: expected 5 fields, saw 6\\nSkipping line 2117335: expected 5 fields, saw 6\\nSkipping line 2117336: expected 5 fields, saw 6\\nSkipping line 2117337: expected 5 fields, saw 6\\nSkipping line 2117338: expected 5 fields, saw 6\\nSkipping line 2117339: expected 5 fields, saw 6\\nSkipping line 2117340: expected 5 fields, saw 6\\nSkipping line 2117341: expected 5 fields, saw 6\\nSkipping line 2117342: expected 5 fields, saw 6\\nSkipping line 2117343: expected 5 fields, saw 6\\nSkipping line 2117344: expected 5 fields, saw 6\\nSkipping line 2117345: expected 5 fields, saw 6\\nSkipping line 2117346: expected 5 fields, saw 6\\nSkipping line 2117347: expected 5 fields, saw 6\\nSkipping line 2117348: expected 5 fields, saw 6\\nSkipping line 2117349: expected 5 fields, saw 6\\nSkipping line 2117350: expected 5 fields, saw 6\\nSkipping line 2117351: expected 5 fields, saw 6\\nSkipping line 2121125: expected 5 fields, saw 7\\nSkipping line 2121126: expected 5 fields, saw 7\\nSkipping line 2121127: expected 5 fields, saw 6\\nSkipping line 2121128: expected 5 fields, saw 6\\nSkipping line 2121129: expected 5 fields, saw 6\\nSkipping line 2121130: expected 5 fields, saw 6\\nSkipping line 2121131: expected 5 fields, saw 6\\nSkipping line 2121132: expected 5 fields, saw 6\\nSkipping line 2121133: expected 5 fields, saw 6\\nSkipping line 2121134: expected 5 fields, saw 6\\nSkipping line 2130446: expected 5 fields, saw 6\\nSkipping line 2130450: expected 5 fields, saw 6\\nSkipping line 2136962: expected 5 fields, saw 6\\nSkipping line 2136963: expected 5 fields, saw 6\\nSkipping line 2136964: expected 5 fields, saw 6\\nSkipping line 2136965: expected 5 fields, saw 6\\nSkipping line 2136966: expected 5 fields, saw 6\\nSkipping line 2136967: expected 5 fields, saw 6\\nSkipping line 2146050: expected 5 fields, saw 6\\nSkipping line 2146051: expected 5 fields, saw 6\\nSkipping line 2146052: expected 5 fields, saw 6\\nSkipping line 2161530: expected 5 fields, saw 6\\nSkipping line 2161531: expected 5 fields, saw 6\\nSkipping line 2161532: expected 5 fields, saw 6\\nSkipping line 2161533: expected 5 fields, saw 6\\nSkipping line 2161534: expected 5 fields, saw 6\\nSkipping line 2161535: expected 5 fields, saw 6\\nSkipping line 2161536: expected 5 fields, saw 6\\nSkipping line 2163478: expected 5 fields, saw 6\\nSkipping line 2163479: expected 5 fields, saw 6\\nSkipping line 2163480: expected 5 fields, saw 6\\nSkipping line 2163481: expected 5 fields, saw 6\\nSkipping line 2163482: expected 5 fields, saw 6\\nSkipping line 2163483: expected 5 fields, saw 6\\nSkipping line 2167402: expected 5 fields, saw 6\\nSkipping line 2167403: expected 5 fields, saw 6\\nSkipping line 2167404: expected 5 fields, saw 6\\nSkipping line 2168801: expected 5 fields, saw 7\\nSkipping line 2168802: expected 5 fields, saw 7\\nSkipping line 2168803: expected 5 fields, saw 7\\nSkipping line 2168804: expected 5 fields, saw 7\\nSkipping line 2168805: expected 5 fields, saw 7\\nSkipping line 2168806: expected 5 fields, saw 7\\nSkipping line 2168807: expected 5 fields, saw 7\\nSkipping line 2168808: expected 5 fields, saw 7\\nSkipping line 2168809: expected 5 fields, saw 7\\nSkipping line 2168810: expected 5 fields, saw 7\\nSkipping line 2168811: expected 5 fields, saw 7\\nSkipping line 2174943: expected 5 fields, saw 6\\nSkipping line 2174944: expected 5 fields, saw 6\\nSkipping line 2174945: expected 5 fields, saw 6\\nSkipping line 2174946: expected 5 fields, saw 6\\nSkipping line 2174947: expected 5 fields, saw 6\\nSkipping line 2174948: expected 5 fields, saw 6\\nSkipping line 2178731: expected 5 fields, saw 6\\nSkipping line 2178732: expected 5 fields, saw 6\\nSkipping line 2179050: expected 5 fields, saw 6\\nSkipping line 2179051: expected 5 fields, saw 6\\nSkipping line 2179052: expected 5 fields, saw 6\\nSkipping line 2179053: expected 5 fields, saw 6\\nSkipping line 2179054: expected 5 fields, saw 6\\nSkipping line 2182903: expected 5 fields, saw 6\\nSkipping line 2182904: expected 5 fields, saw 6\\nSkipping line 2182905: expected 5 fields, saw 6\\nSkipping line 2182906: expected 5 fields, saw 6\\nSkipping line 2182907: expected 5 fields, saw 6\\nSkipping line 2183433: expected 5 fields, saw 6\\nSkipping line 2183434: expected 5 fields, saw 6\\nSkipping line 2183435: expected 5 fields, saw 6\\nSkipping line 2183436: expected 5 fields, saw 6\\nSkipping line 2183437: expected 5 fields, saw 6\\nSkipping line 2183438: expected 5 fields, saw 6\\nSkipping line 2183439: expected 5 fields, saw 6\\nSkipping line 2183440: expected 5 fields, saw 6\\nSkipping line 2183441: expected 5 fields, saw 6\\nSkipping line 2183442: expected 5 fields, saw 6\\nSkipping line 2183443: expected 5 fields, saw 6\\nSkipping line 2183444: expected 5 fields, saw 6\\nSkipping line 2183445: expected 5 fields, saw 6\\nSkipping line 2183446: expected 5 fields, saw 6\\nSkipping line 2187835: expected 5 fields, saw 6\\nSkipping line 2187836: expected 5 fields, saw 6\\nSkipping line 2187837: expected 5 fields, saw 6\\nSkipping line 2187838: expected 5 fields, saw 6\\nSkipping line 2189088: expected 5 fields, saw 6\\nSkipping line 2189089: expected 5 fields, saw 7\\nSkipping line 2189090: expected 5 fields, saw 6\\nSkipping line 2189091: expected 5 fields, saw 6\\nSkipping line 2189092: expected 5 fields, saw 6\\nSkipping line 2190431: expected 5 fields, saw 6\\nSkipping line 2190432: expected 5 fields, saw 6\\nSkipping line 2190433: expected 5 fields, saw 6\\nSkipping line 2190434: expected 5 fields, saw 6\\nSkipping line 2190435: expected 5 fields, saw 6\\nSkipping line 2190436: expected 5 fields, saw 6\\nSkipping line 2190437: expected 5 fields, saw 6\\nSkipping line 2190438: expected 5 fields, saw 6\\nSkipping line 2190439: expected 5 fields, saw 6\\nSkipping line 2190440: expected 5 fields, saw 6\\nSkipping line 2190441: expected 5 fields, saw 6\\nSkipping line 2190442: expected 5 fields, saw 6\\nSkipping line 2190717: expected 5 fields, saw 6\\nSkipping line 2190718: expected 5 fields, saw 6\\nSkipping line 2190719: expected 5 fields, saw 6\\nSkipping line 2190720: expected 5 fields, saw 6\\nSkipping line 2190721: expected 5 fields, saw 6\\nSkipping line 2202602: expected 5 fields, saw 7\\nSkipping line 2202603: expected 5 fields, saw 7\\nSkipping line 2202604: expected 5 fields, saw 7\\nSkipping line 2202605: expected 5 fields, saw 7\\nSkipping line 2202606: expected 5 fields, saw 7\\nSkipping line 2202607: expected 5 fields, saw 7\\nSkipping line 2204192: expected 5 fields, saw 6\\nSkipping line 2204193: expected 5 fields, saw 6\\nSkipping line 2204194: expected 5 fields, saw 6\\nSkipping line 2209613: expected 5 fields, saw 6\\nSkipping line 2209614: expected 5 fields, saw 6\\nSkipping line 2209615: expected 5 fields, saw 6\\nSkipping line 2209616: expected 5 fields, saw 6\\nSkipping line 2209617: expected 5 fields, saw 6\\nSkipping line 2209618: expected 5 fields, saw 6\\nSkipping line 2209619: expected 5 fields, saw 6\\nSkipping line 2209620: expected 5 fields, saw 6\\nSkipping line 2209621: expected 5 fields, saw 6\\nSkipping line 2209622: expected 5 fields, saw 6\\nSkipping line 2209623: expected 5 fields, saw 6\\nSkipping line 2209624: expected 5 fields, saw 6\\nSkipping line 2209625: expected 5 fields, saw 6\\nSkipping line 2210209: expected 5 fields, saw 7\\nSkipping line 2210210: expected 5 fields, saw 7\\nSkipping line 2210211: expected 5 fields, saw 7\\nSkipping line 2210212: expected 5 fields, saw 7\\nSkipping line 2210213: expected 5 fields, saw 7\\nSkipping line 2210214: expected 5 fields, saw 7\\nSkipping line 2222659: expected 5 fields, saw 9\\nSkipping line 2222660: expected 5 fields, saw 9\\nSkipping line 2222661: expected 5 fields, saw 9\\nSkipping line 2222662: expected 5 fields, saw 9\\nSkipping line 2222663: expected 5 fields, saw 9\\nSkipping line 2222664: expected 5 fields, saw 9\\n'\n",
      "b'Skipping line 2230456: expected 5 fields, saw 6\\nSkipping line 2230457: expected 5 fields, saw 6\\nSkipping line 2230458: expected 5 fields, saw 6\\nSkipping line 2230459: expected 5 fields, saw 6\\nSkipping line 2230460: expected 5 fields, saw 6\\nSkipping line 2230461: expected 5 fields, saw 6\\nSkipping line 2230462: expected 5 fields, saw 6\\nSkipping line 2230463: expected 5 fields, saw 6\\nSkipping line 2230464: expected 5 fields, saw 6\\nSkipping line 2230465: expected 5 fields, saw 6\\nSkipping line 2230466: expected 5 fields, saw 6\\nSkipping line 2230467: expected 5 fields, saw 6\\nSkipping line 2233988: expected 5 fields, saw 6\\nSkipping line 2233989: expected 5 fields, saw 6\\nSkipping line 2233990: expected 5 fields, saw 6\\nSkipping line 2233991: expected 5 fields, saw 6\\nSkipping line 2233992: expected 5 fields, saw 6\\nSkipping line 2234001: expected 5 fields, saw 10\\nSkipping line 2234002: expected 5 fields, saw 10\\nSkipping line 2234003: expected 5 fields, saw 10\\nSkipping line 2234004: expected 5 fields, saw 10\\nSkipping line 2234005: expected 5 fields, saw 10\\nSkipping line 2234006: expected 5 fields, saw 10\\nSkipping line 2234007: expected 5 fields, saw 10\\nSkipping line 2234008: expected 5 fields, saw 10\\nSkipping line 2234009: expected 5 fields, saw 10\\nSkipping line 2234010: expected 5 fields, saw 10\\nSkipping line 2234011: expected 5 fields, saw 10\\nSkipping line 2234012: expected 5 fields, saw 10\\nSkipping line 2237028: expected 5 fields, saw 6\\nSkipping line 2237029: expected 5 fields, saw 6\\nSkipping line 2237030: expected 5 fields, saw 6\\nSkipping line 2237031: expected 5 fields, saw 6\\nSkipping line 2239482: expected 5 fields, saw 6\\nSkipping line 2239483: expected 5 fields, saw 6\\nSkipping line 2239484: expected 5 fields, saw 6\\nSkipping line 2239485: expected 5 fields, saw 6\\nSkipping line 2244557: expected 5 fields, saw 7\\nSkipping line 2244558: expected 5 fields, saw 7\\nSkipping line 2244559: expected 5 fields, saw 7\\nSkipping line 2244560: expected 5 fields, saw 7\\nSkipping line 2244561: expected 5 fields, saw 7\\nSkipping line 2244562: expected 5 fields, saw 7\\nSkipping line 2244563: expected 5 fields, saw 7\\nSkipping line 2244564: expected 5 fields, saw 7\\nSkipping line 2244565: expected 5 fields, saw 7\\nSkipping line 2245803: expected 5 fields, saw 6\\nSkipping line 2245804: expected 5 fields, saw 6\\nSkipping line 2245805: expected 5 fields, saw 6\\nSkipping line 2245806: expected 5 fields, saw 6\\nSkipping line 2245807: expected 5 fields, saw 6\\nSkipping line 2245808: expected 5 fields, saw 6\\nSkipping line 2245809: expected 5 fields, saw 6\\nSkipping line 2245810: expected 5 fields, saw 6\\nSkipping line 2245811: expected 5 fields, saw 6\\nSkipping line 2245812: expected 5 fields, saw 6\\nSkipping line 2245813: expected 5 fields, saw 6\\nSkipping line 2245814: expected 5 fields, saw 6\\nSkipping line 2251015: expected 5 fields, saw 6\\nSkipping line 2251016: expected 5 fields, saw 6\\nSkipping line 2253797: expected 5 fields, saw 7\\nSkipping line 2253798: expected 5 fields, saw 7\\nSkipping line 2253799: expected 5 fields, saw 7\\nSkipping line 2257440: expected 5 fields, saw 6\\nSkipping line 2257441: expected 5 fields, saw 6\\nSkipping line 2257442: expected 5 fields, saw 6\\nSkipping line 2257443: expected 5 fields, saw 6\\nSkipping line 2257444: expected 5 fields, saw 6\\nSkipping line 2258380: expected 5 fields, saw 6\\nSkipping line 2258381: expected 5 fields, saw 6\\nSkipping line 2260525: expected 5 fields, saw 7\\nSkipping line 2260526: expected 5 fields, saw 7\\nSkipping line 2260527: expected 5 fields, saw 7\\nSkipping line 2260528: expected 5 fields, saw 7\\nSkipping line 2260529: expected 5 fields, saw 7\\nSkipping line 2260530: expected 5 fields, saw 7\\nSkipping line 2263259: expected 5 fields, saw 6\\nSkipping line 2263260: expected 5 fields, saw 6\\nSkipping line 2264191: expected 5 fields, saw 6\\nSkipping line 2264192: expected 5 fields, saw 6\\nSkipping line 2264193: expected 5 fields, saw 6\\nSkipping line 2264194: expected 5 fields, saw 6\\n'\n",
      "/Users/sladomic/anaconda/lib/python3.6/site-packages/IPython/core/interactiveshell.py:2717: DtypeWarning: Columns (4) have mixed types. Specify dtype option on import or set low_memory=False.\n",
      "  interactivity=interactivity, compiler=compiler, result=result)\n"
     ]
    }
   ],
   "source": [
    "df = pd.read_csv('forum.csv', error_bad_lines=False)"
   ]
  },
  {
   "cell_type": "code",
   "execution_count": 213,
   "metadata": {
    "collapsed": false
   },
   "outputs": [
    {
     "data": {
      "text/html": [
       "<div>\n",
       "<table border=\"1\" class=\"dataframe\">\n",
       "  <thead>\n",
       "    <tr style=\"text-align: right;\">\n",
       "      <th></th>\n",
       "      <th>messageId</th>\n",
       "      <th>solution</th>\n",
       "      <th>subject</th>\n",
       "      <th>forumsThread_threadId</th>\n",
       "      <th>plain_text</th>\n",
       "    </tr>\n",
       "  </thead>\n",
       "  <tbody>\n",
       "    <tr>\n",
       "      <th>0</th>\n",
       "      <td>1142</td>\n",
       "      <td>0</td>\n",
       "      <td>Umstellung auf IP Anschluss</td>\n",
       "      <td>1142</td>\n",
       "      <td>Hallo zusammen,   Ich bin am Überlegen von mei...</td>\n",
       "    </tr>\n",
       "    <tr>\n",
       "      <th>1</th>\n",
       "      <td>1156</td>\n",
       "      <td>1</td>\n",
       "      <td>AW: Umstellung auf IP Anschluss</td>\n",
       "      <td>1142</td>\n",
       "      <td>Hallo, ich habe am 16.12.13 den Anschlus meine...</td>\n",
       "    </tr>\n",
       "    <tr>\n",
       "      <th>2</th>\n",
       "      <td>1160</td>\n",
       "      <td>1</td>\n",
       "      <td>AW: Umstellung auf IP Anschluss</td>\n",
       "      <td>1142</td>\n",
       "      <td>Router muss umgestellt werden, Telefone ggf. a...</td>\n",
       "    </tr>\n",
       "    <tr>\n",
       "      <th>3</th>\n",
       "      <td>1162</td>\n",
       "      <td>1</td>\n",
       "      <td>AW: Umstellung auf IP Anschluss</td>\n",
       "      <td>1142</td>\n",
       "      <td>Hallo Fabian!   Die Umstellung läuft in der Re...</td>\n",
       "    </tr>\n",
       "    <tr>\n",
       "      <th>4</th>\n",
       "      <td>1202</td>\n",
       "      <td>0</td>\n",
       "      <td>AW: Umstellung auf IP Anschluss</td>\n",
       "      <td>1142</td>\n",
       "      <td>Hallo, Vielen Dank für das informative und sch...</td>\n",
       "    </tr>\n",
       "  </tbody>\n",
       "</table>\n",
       "</div>"
      ],
      "text/plain": [
       "   messageId  solution                          subject  \\\n",
       "0       1142         0      Umstellung auf IP Anschluss   \n",
       "1       1156         1  AW: Umstellung auf IP Anschluss   \n",
       "2       1160         1  AW: Umstellung auf IP Anschluss   \n",
       "3       1162         1  AW: Umstellung auf IP Anschluss   \n",
       "4       1202         0  AW: Umstellung auf IP Anschluss   \n",
       "\n",
       "   forumsThread_threadId                                         plain_text  \n",
       "0                   1142  Hallo zusammen,   Ich bin am Überlegen von mei...  \n",
       "1                   1142  Hallo, ich habe am 16.12.13 den Anschlus meine...  \n",
       "2                   1142  Router muss umgestellt werden, Telefone ggf. a...  \n",
       "3                   1142  Hallo Fabian!   Die Umstellung läuft in der Re...  \n",
       "4                   1142  Hallo, Vielen Dank für das informative und sch...  "
      ]
     },
     "execution_count": 213,
     "metadata": {},
     "output_type": "execute_result"
    }
   ],
   "source": [
    "df.head()"
   ]
  },
  {
   "cell_type": "code",
   "execution_count": 214,
   "metadata": {
    "collapsed": true
   },
   "outputs": [],
   "source": [
    "words = []\n",
    "plain = df['plain_text']\n",
    "for i in range(len(plain)):\n",
    "    words.append(cleaned_text(str(plain[i])))"
   ]
  },
  {
   "cell_type": "raw",
   "metadata": {},
   "source": [
    "# sp1\n",
    "words = []\n",
    "threadId = df['forumsThread_threadId'].unique()\n",
    "for i in range(len(threadId)):\n",
    "    plain = []\n",
    "    plain = df[(df.forumsThread_threadId == threadId[i])]['plain_text'].values\n",
    "    sentence = cleaned_text(str(plain[0]))\n",
    "    words.append(sentence)\n",
    "    for j in range(1, len(plain)):\n",
    "        sentence = cleaned_text(str(plain[j]))\n",
    "        words[i] = words[i] + ' \\t ' + sentence"
   ]
  },
  {
   "cell_type": "raw",
   "metadata": {},
   "source": [
    "# sp4\n",
    "words = []\n",
    "threadId = df['forumsThread_threadId'].unique()\n",
    "for i in range(len(threadId)):\n",
    "    if df[(df.forumsThread_threadId == threadId[i])].query('solution == 1').size > 0:\n",
    "        question = df[(df.forumsThread_threadId == threadId[i])]['plain_text'].values[0]\n",
    "        question = cleaned_text(str(question))\n",
    "        #answers = df[(df.forumsThread_threadId == threadId[i])].query('solution == 1')['messageId'].values\n",
    "        #answer = ''\n",
    "        #for x in answers:\n",
    "        #    answer = cleaned_text_label(str(x))\n",
    "        answer = df[(df.forumsThread_threadId == threadId[i])].query('solution == 1')['plain_text'].values[0]\n",
    "        words.append(question + ' \\t ' + cleaned_text(str(answer)))"
   ]
  },
  {
   "cell_type": "raw",
   "metadata": {},
   "source": [
    "classes = df['forumsThread_threadId']\n",
    "for i in range(len(words)):\n",
    "    words[i] = words[i] + '\\t' + '__label__' + str(classes[i])"
   ]
  },
  {
   "cell_type": "code",
   "execution_count": 215,
   "metadata": {
    "collapsed": false
   },
   "outputs": [
    {
     "data": {
      "text/plain": [
       "'hallo zusammen ich bin am uberlegen von meinem analog anschluss auf einen ip anschluss zu wechseln gibt es bei der umstellung von einem anaolgen zu einem ip basierten anschluss etwas zu beachten oder funktioniert alles wie gehabt hat jemand erfahrungen ob ich meine alte hardware weiter nutzen kann grusse fabian'"
      ]
     },
     "execution_count": 215,
     "metadata": {},
     "output_type": "execute_result"
    }
   ],
   "source": [
    "words[0]"
   ]
  },
  {
   "cell_type": "code",
   "execution_count": 216,
   "metadata": {
    "collapsed": true
   },
   "outputs": [],
   "source": [
    "df2 = pd.DataFrame(words)"
   ]
  },
  {
   "cell_type": "code",
   "execution_count": 217,
   "metadata": {
    "collapsed": false
   },
   "outputs": [
    {
     "data": {
      "text/html": [
       "<div>\n",
       "<table border=\"1\" class=\"dataframe\">\n",
       "  <thead>\n",
       "    <tr style=\"text-align: right;\">\n",
       "      <th></th>\n",
       "      <th>0</th>\n",
       "    </tr>\n",
       "  </thead>\n",
       "  <tbody>\n",
       "    <tr>\n",
       "      <th>0</th>\n",
       "      <td>hallo zusammen ich bin am uberlegen von meinem...</td>\n",
       "    </tr>\n",
       "    <tr>\n",
       "      <th>1</th>\n",
       "      <td>hallo ich habe am den anschlus meines vater is...</td>\n",
       "    </tr>\n",
       "    <tr>\n",
       "      <th>2</th>\n",
       "      <td>router muss umgestellt werden telefone ggf and...</td>\n",
       "    </tr>\n",
       "    <tr>\n",
       "      <th>3</th>\n",
       "      <td>hallo fabian die umstellung lauft in der regel...</td>\n",
       "    </tr>\n",
       "    <tr>\n",
       "      <th>4</th>\n",
       "      <td>hallo vielen dank fur das informative und schn...</td>\n",
       "    </tr>\n",
       "  </tbody>\n",
       "</table>\n",
       "</div>"
      ],
      "text/plain": [
       "                                                   0\n",
       "0  hallo zusammen ich bin am uberlegen von meinem...\n",
       "1  hallo ich habe am den anschlus meines vater is...\n",
       "2  router muss umgestellt werden telefone ggf and...\n",
       "3  hallo fabian die umstellung lauft in der regel...\n",
       "4  hallo vielen dank fur das informative und schn..."
      ]
     },
     "execution_count": 217,
     "metadata": {},
     "output_type": "execute_result"
    }
   ],
   "source": [
    "df2.head()"
   ]
  },
  {
   "cell_type": "code",
   "execution_count": 219,
   "metadata": {
    "collapsed": false
   },
   "outputs": [
    {
     "data": {
      "text/html": [
       "<div>\n",
       "<table border=\"1\" class=\"dataframe\">\n",
       "  <thead>\n",
       "    <tr style=\"text-align: right;\">\n",
       "      <th></th>\n",
       "      <th>0</th>\n",
       "    </tr>\n",
       "  </thead>\n",
       "  <tbody>\n",
       "    <tr>\n",
       "      <th>2254892</th>\n",
       "      <td>nan</td>\n",
       "    </tr>\n",
       "    <tr>\n",
       "      <th>548348</th>\n",
       "      <td>ich habe genau das gleiche problem eine nette ...</td>\n",
       "    </tr>\n",
       "    <tr>\n",
       "      <th>94583</th>\n",
       "      <td>vielen dank fur die antwort ich hab eine fritz...</td>\n",
       "    </tr>\n",
       "    <tr>\n",
       "      <th>815003</th>\n",
       "      <td>ich mach mal ein neues thema auf mit erfahrung...</td>\n",
       "    </tr>\n",
       "    <tr>\n",
       "      <th>1137055</th>\n",
       "      <td>keine ahnung wie es bei den sonderrufnummern i...</td>\n",
       "    </tr>\n",
       "  </tbody>\n",
       "</table>\n",
       "</div>"
      ],
      "text/plain": [
       "                                                         0\n",
       "2254892                                                nan\n",
       "548348   ich habe genau das gleiche problem eine nette ...\n",
       "94583    vielen dank fur die antwort ich hab eine fritz...\n",
       "815003   ich mach mal ein neues thema auf mit erfahrung...\n",
       "1137055  keine ahnung wie es bei den sonderrufnummern i..."
      ]
     },
     "execution_count": 219,
     "metadata": {},
     "output_type": "execute_result"
    }
   ],
   "source": [
    "shuffled = df2.sample(frac=1)\n",
    "shuffled.head()"
   ]
  },
  {
   "cell_type": "code",
   "execution_count": 220,
   "metadata": {
    "collapsed": true
   },
   "outputs": [],
   "source": [
    "df2.to_csv('umlaute_shuffled.txt', header=False, index=False)"
   ]
  },
  {
   "cell_type": "code",
   "execution_count": 150,
   "metadata": {
    "collapsed": true
   },
   "outputs": [],
   "source": [
    "maxl = 0\n",
    "curl = []\n",
    "for i in range(len(words)):\n",
    "    cur = len(words[i].split())\n",
    "    curl.append(cur)\n",
    "    if cur > maxl:\n",
    "        maxl = cur"
   ]
  },
  {
   "cell_type": "code",
   "execution_count": 63,
   "metadata": {
    "collapsed": false
   },
   "outputs": [
    {
     "data": {
      "text/plain": [
       "6447"
      ]
     },
     "execution_count": 63,
     "metadata": {},
     "output_type": "execute_result"
    }
   ],
   "source": [
    "maxl"
   ]
  },
  {
   "cell_type": "code",
   "execution_count": 64,
   "metadata": {
    "collapsed": false
   },
   "outputs": [
    {
     "data": {
      "text/plain": [
       "266.09401303714952"
      ]
     },
     "execution_count": 64,
     "metadata": {},
     "output_type": "execute_result"
    }
   ],
   "source": [
    "import numpy as np\n",
    "np.mean(curl)"
   ]
  },
  {
   "cell_type": "code",
   "execution_count": null,
   "metadata": {
    "collapsed": true
   },
   "outputs": [],
   "source": []
  }
 ],
 "metadata": {
  "kernelspec": {
   "display_name": "Python 3",
   "language": "python",
   "name": "python3"
  },
  "language_info": {
   "codemirror_mode": {
    "name": "ipython",
    "version": 3
   },
   "file_extension": ".py",
   "mimetype": "text/x-python",
   "name": "python",
   "nbconvert_exporter": "python",
   "pygments_lexer": "ipython3",
   "version": "3.6.0"
  }
 },
 "nbformat": 4,
 "nbformat_minor": 2
}
