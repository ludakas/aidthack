{
 "cells": [
  {
   "cell_type": "code",
   "execution_count": 168,
   "metadata": {
    "collapsed": true
   },
   "outputs": [],
   "source": [
    "from collections import Counter, namedtuple\n",
    "import numpy as np\n",
    "import pandas as pd\n",
    "from sklearn.metrics.pairwise import cosine_similarity\n",
    "import pickle"
   ]
  },
  {
   "cell_type": "code",
   "execution_count": 6,
   "metadata": {
    "collapsed": true
   },
   "outputs": [],
   "source": [
    "with open(\"forum_1000.txt\",\"rb\") as f:\n",
    "    lines = f.readlines()"
   ]
  },
  {
   "cell_type": "code",
   "execution_count": 17,
   "metadata": {
    "collapsed": false
   },
   "outputs": [
    {
     "data": {
      "text/plain": [
       "57876"
      ]
     },
     "execution_count": 17,
     "metadata": {},
     "output_type": "execute_result"
    }
   ],
   "source": [
    "words_sentences = [w for line in lines for w in line.split()]\n",
    "len(words_sentences)"
   ]
  },
  {
   "cell_type": "code",
   "execution_count": 23,
   "metadata": {
    "collapsed": false
   },
   "outputs": [
    {
     "data": {
      "text/plain": [
       "6529"
      ]
     },
     "execution_count": 23,
     "metadata": {},
     "output_type": "execute_result"
    }
   ],
   "source": [
    "dist = Counter(words_sentences)\n",
    "len(dist.items())"
   ]
  },
  {
   "cell_type": "code",
   "execution_count": 72,
   "metadata": {
    "collapsed": false,
    "scrolled": true
   },
   "outputs": [
    {
     "name": "stdout",
     "output_type": "stream",
     "text": [
      "1000\n",
      "['des', 'danke', 'zum', 'gru', 'ihr', 'h', 'war']\n"
     ]
    }
   ],
   "source": [
    "# creating a vocabulary of 1000 most common words skipping the first 100 \n",
    "vocab = dist.most_common(1100)\n",
    "vocab = vocab[100:]\n",
    "vocab = [str(e[0])[2:-1] for e in vocab]\n",
    "print(len(vocab))\n",
    "print(vocab[0:7])"
   ]
  },
  {
   "cell_type": "code",
   "execution_count": 68,
   "metadata": {
    "collapsed": false
   },
   "outputs": [],
   "source": [
    "def get_feature_vec(text):\n",
    "    feature_vec = np.zeros(1000)\n",
    "    for word in text:\n",
    "        if word in vocab:\n",
    "            feature_vec[ vocab.index(word) ] += 1\n",
    "    return feature_vec"
   ]
  },
  {
   "cell_type": "code",
   "execution_count": 69,
   "metadata": {
    "collapsed": false
   },
   "outputs": [
    {
     "data": {
      "text/plain": [
       "112.0"
      ]
     },
     "execution_count": 69,
     "metadata": {},
     "output_type": "execute_result"
    }
   ],
   "source": [
    "text = \"hallo zusammen ich bin am berlegen von meinem analog anschluss auf einen ip anschluss zu wechseln gibt es bei der umstellung von einem anaolgen zu einem ip basierten anschluss etwas zu beachten oder funktioniert alles wie gehabt hat jemand erfahrungen ob ich meine alte hardware weiter nutzen kann gr e fabian\"\n",
    "sum(get_feature_vec(text))"
   ]
  },
  {
   "cell_type": "code",
   "execution_count": null,
   "metadata": {
    "collapsed": false
   },
   "outputs": [],
   "source": [
    "csv_data = pd.read_csv(\"full_1000.csv\", error_bad_lines=False)"
   ]
  },
  {
   "cell_type": "code",
   "execution_count": 84,
   "metadata": {
    "collapsed": false
   },
   "outputs": [],
   "source": [
    "threadIds = csv_data[\"forumsThread_threadId\"]\n",
    "threadIds = set(threadIds)"
   ]
  },
  {
   "cell_type": "code",
   "execution_count": 164,
   "metadata": {
    "collapsed": false
   },
   "outputs": [],
   "source": [
    "# filter threads without answer\n",
    "threads_to_remove = []\n",
    "q_a = dict()\n",
    "# questions = [] \n",
    "q_vec = []\n",
    "X = np.zeros([0,1000])\n",
    "good_threadIds = []\n",
    "for tId in threadIds:\n",
    "    thread_data = csv_data[ csv_data[\"forumsThread_threadId\"]==tId ]\n",
    "    if sum(thread_data['solution'])==0:\n",
    "        threads_to_remove.append(tId)\n",
    "    else:\n",
    "        q_a[tId] = dict()\n",
    "        q_a[tId][\"questions\"] = thread_data[ thread_data['solution']==0 ]['plain_text']\n",
    "        q_a[tId][\"ans\"] = thread_data[ thread_data['solution']==1 ]['plain_text']\n",
    "        for question in q_a[tId][\"questions\"]:\n",
    "#             questions.append( (question, tId) )\n",
    "            feature_vec = get_feature_vec(question)\n",
    "            q_vec.append( (feature_vec, tId) )\n",
    "            X = np.concatenate((X, feature_vec.reshape(1,1000)), axis=0)\n",
    "            good_threadIds.append(tId)"
   ]
  },
  {
   "cell_type": "code",
   "execution_count": 165,
   "metadata": {
    "collapsed": false,
    "scrolled": true
   },
   "outputs": [],
   "source": [
    "def get_closest_answers(new_question_text):\n",
    "    feature_vec = get_feature_vec(new_question_text).reshape(1,1000)\n",
    "    similarities = cosine_similarity(X, feature_vec)\n",
    "    ind = np.argmax(similarities)\n",
    "    threadId = good_threadIds[ind]\n",
    "    return q_a[threadId][\"ans\"]"
   ]
  },
  {
   "cell_type": "code",
   "execution_count": 167,
   "metadata": {
    "collapsed": false
   },
   "outputs": [
    {
     "name": "stdout",
     "output_type": "stream",
     "text": [
      "1    Router muss umgestellt werden, Telefone ggf. a...\n",
      "Name: plain_text, dtype: object\n"
     ]
    }
   ],
   "source": [
    "print(get_closest_answers(text))"
   ]
  },
  {
   "cell_type": "code",
   "execution_count": 171,
   "metadata": {
    "collapsed": false
   },
   "outputs": [],
   "source": [
    "## saving parameters\n",
    "# with open(\"naive_LM_params.pkl\",\"wb\") as f:\n",
    "#     pickle.dump([vocab,X],f)"
   ]
  },
  {
   "cell_type": "code",
   "execution_count": null,
   "metadata": {
    "collapsed": true
   },
   "outputs": [],
   "source": []
  }
 ],
 "metadata": {
  "kernelspec": {
   "display_name": "Python 3",
   "language": "python",
   "name": "python3"
  },
  "language_info": {
   "codemirror_mode": {
    "name": "ipython",
    "version": 3
   },
   "file_extension": ".py",
   "mimetype": "text/x-python",
   "name": "python",
   "nbconvert_exporter": "python",
   "pygments_lexer": "ipython3",
   "version": "3.5.2"
  }
 },
 "nbformat": 4,
 "nbformat_minor": 0
}
